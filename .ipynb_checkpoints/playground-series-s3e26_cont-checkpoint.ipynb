{
 "cells": [
  {
   "cell_type": "code",
   "execution_count": 1,
   "id": "3625e6a1",
   "metadata": {},
   "outputs": [],
   "source": [
    "# input needed are X_train, y_train_le, X_test\n",
    "# remaining questions\n",
    "# better way to convert np results to df\n",
    "# any visualization"
   ]
  },
  {
   "cell_type": "code",
   "execution_count": 2,
   "id": "d7905926",
   "metadata": {},
   "outputs": [],
   "source": [
    "import numpy as np\n",
    "import pandas as pd\n",
    "import matplotlib.pyplot as plt\n",
    "import seaborn as sns\n",
    "%matplotlib inline"
   ]
  },
  {
   "cell_type": "code",
   "execution_count": 3,
   "id": "9b4d7055",
   "metadata": {},
   "outputs": [],
   "source": [
    "from scipy.stats import skew\n",
    "from sklearn.preprocessing import StandardScaler,OneHotEncoder,LabelEncoder\n",
    "from sklearn.model_selection import StratifiedKFold\n",
    "from sklearn.linear_model import LogisticRegression\n",
    "from sklearn.metrics import log_loss\n",
    "from lightgbm import LGBMClassifier\n",
    "import random"
   ]
  },
  {
   "cell_type": "code",
   "execution_count": 4,
   "id": "a4385d12",
   "metadata": {},
   "outputs": [],
   "source": [
    "# lgbm accepts df for X and np for y (m,)\n",
    "# lgbmclassifier() requires y to be labelled"
   ]
  },
  {
   "cell_type": "code",
   "execution_count": 5,
   "id": "fe2255a9",
   "metadata": {},
   "outputs": [
    {
     "data": {
      "text/plain": [
       "(7905, 25)"
      ]
     },
     "execution_count": 5,
     "metadata": {},
     "output_type": "execute_result"
    }
   ],
   "source": [
    "X_train = pd.read_csv(\"X_train.csv\")\n",
    "X_train.shape"
   ]
  },
  {
   "cell_type": "code",
   "execution_count": 6,
   "id": "243eeb09",
   "metadata": {},
   "outputs": [
    {
     "data": {
      "text/plain": [
       "(7905,)"
      ]
     },
     "execution_count": 6,
     "metadata": {},
     "output_type": "execute_result"
    }
   ],
   "source": [
    "y_train_le = pd.read_csv(\"y_train_le.csv\").to_numpy().ravel()\n",
    "y_train_le.shape"
   ]
  },
  {
   "cell_type": "code",
   "execution_count": 7,
   "id": "791028b6",
   "metadata": {},
   "outputs": [
    {
     "data": {
      "text/plain": [
       "(5271, 25)"
      ]
     },
     "execution_count": 7,
     "metadata": {},
     "output_type": "execute_result"
    }
   ],
   "source": [
    "X_test = pd.read_csv(\"X_test.csv\")\n",
    "X_test.shape"
   ]
  },
  {
   "cell_type": "markdown",
   "id": "d4e1461e",
   "metadata": {},
   "source": [
    "## set up cross validation"
   ]
  },
  {
   "cell_type": "code",
   "execution_count": 8,
   "id": "e7309f22",
   "metadata": {},
   "outputs": [],
   "source": [
    "def cross_validate(model):\n",
    "    \"\"\"\n",
    "    cross-validate model with StratifiedKFold()\n",
    "    \"\"\"\n",
    "    skf = StratifiedKFold(shuffle=True,random_state=20231212) # default n_splits=5\n",
    "    oof_pred = np.full((len(X_train),3),np.nan)\n",
    "    cross_entropy_list = []\n",
    "    \n",
    "    for fold,(idx_tr,idx_va) in enumerate(skf.split(X_train,y_train_le)):\n",
    "        X_tr = X_train.iloc[idx_tr]\n",
    "        X_va = X_train.iloc[idx_va]\n",
    "        y_tr = y_train_le[idx_tr]\n",
    "        y_va = y_train_le[idx_va]\n",
    "        model.fit(X_tr,y_tr)\n",
    "        y_va_pred = model.predict_proba(X_va)\n",
    "        oof_pred[idx_va] = y_va_pred\n",
    "        cross_entropy = log_loss(y_va,y_va_pred)\n",
    "        cross_entropy_list.append(cross_entropy)\n",
    "    \n",
    "    mean_cross_entropy = round(np.array(cross_entropy_list).mean(),10)\n",
    "    # each fold produces y_va_pred, oof_pred, cross_entropy\n",
    "    # after all folds produces cross_entropy_list, mean_cross_entropy\n",
    "    return mean_cross_entropy, model.get_params()"
   ]
  },
  {
   "cell_type": "markdown",
   "id": "27e8aa4b",
   "metadata": {},
   "source": [
    "## baseline multinomial logistic regression model"
   ]
  },
  {
   "cell_type": "code",
   "execution_count": 9,
   "id": "a4950656",
   "metadata": {},
   "outputs": [
    {
     "name": "stderr",
     "output_type": "stream",
     "text": [
      "/Users/lisiwang/anaconda3/lib/python3.11/site-packages/sklearn/linear_model/_logistic.py:460: ConvergenceWarning: lbfgs failed to converge (status=1):\n",
      "STOP: TOTAL NO. of ITERATIONS REACHED LIMIT.\n",
      "\n",
      "Increase the number of iterations (max_iter) or scale the data as shown in:\n",
      "    https://scikit-learn.org/stable/modules/preprocessing.html\n",
      "Please also refer to the documentation for alternative solver options:\n",
      "    https://scikit-learn.org/stable/modules/linear_model.html#logistic-regression\n",
      "  n_iter_i = _check_optimize_result(\n",
      "/Users/lisiwang/anaconda3/lib/python3.11/site-packages/sklearn/linear_model/_logistic.py:460: ConvergenceWarning: lbfgs failed to converge (status=1):\n",
      "STOP: TOTAL NO. of ITERATIONS REACHED LIMIT.\n",
      "\n",
      "Increase the number of iterations (max_iter) or scale the data as shown in:\n",
      "    https://scikit-learn.org/stable/modules/preprocessing.html\n",
      "Please also refer to the documentation for alternative solver options:\n",
      "    https://scikit-learn.org/stable/modules/linear_model.html#logistic-regression\n",
      "  n_iter_i = _check_optimize_result(\n",
      "/Users/lisiwang/anaconda3/lib/python3.11/site-packages/sklearn/linear_model/_logistic.py:460: ConvergenceWarning: lbfgs failed to converge (status=1):\n",
      "STOP: TOTAL NO. of ITERATIONS REACHED LIMIT.\n",
      "\n",
      "Increase the number of iterations (max_iter) or scale the data as shown in:\n",
      "    https://scikit-learn.org/stable/modules/preprocessing.html\n",
      "Please also refer to the documentation for alternative solver options:\n",
      "    https://scikit-learn.org/stable/modules/linear_model.html#logistic-regression\n",
      "  n_iter_i = _check_optimize_result(\n",
      "/Users/lisiwang/anaconda3/lib/python3.11/site-packages/sklearn/linear_model/_logistic.py:460: ConvergenceWarning: lbfgs failed to converge (status=1):\n",
      "STOP: TOTAL NO. of ITERATIONS REACHED LIMIT.\n",
      "\n",
      "Increase the number of iterations (max_iter) or scale the data as shown in:\n",
      "    https://scikit-learn.org/stable/modules/preprocessing.html\n",
      "Please also refer to the documentation for alternative solver options:\n",
      "    https://scikit-learn.org/stable/modules/linear_model.html#logistic-regression\n",
      "  n_iter_i = _check_optimize_result(\n",
      "/Users/lisiwang/anaconda3/lib/python3.11/site-packages/sklearn/linear_model/_logistic.py:460: ConvergenceWarning: lbfgs failed to converge (status=1):\n",
      "STOP: TOTAL NO. of ITERATIONS REACHED LIMIT.\n",
      "\n",
      "Increase the number of iterations (max_iter) or scale the data as shown in:\n",
      "    https://scikit-learn.org/stable/modules/preprocessing.html\n",
      "Please also refer to the documentation for alternative solver options:\n",
      "    https://scikit-learn.org/stable/modules/linear_model.html#logistic-regression\n",
      "  n_iter_i = _check_optimize_result(\n"
     ]
    },
    {
     "data": {
      "text/plain": [
       "(0.5165245092,\n",
       " {'C': 1.0,\n",
       "  'class_weight': None,\n",
       "  'dual': False,\n",
       "  'fit_intercept': True,\n",
       "  'intercept_scaling': 1,\n",
       "  'l1_ratio': None,\n",
       "  'max_iter': 100,\n",
       "  'multi_class': 'multinomial',\n",
       "  'n_jobs': None,\n",
       "  'penalty': 'l2',\n",
       "  'random_state': 20231212,\n",
       "  'solver': 'lbfgs',\n",
       "  'tol': 0.0001,\n",
       "  'verbose': 0,\n",
       "  'warm_start': False})"
      ]
     },
     "execution_count": 9,
     "metadata": {},
     "output_type": "execute_result"
    }
   ],
   "source": [
    "mlr = cross_validate(LogisticRegression(multi_class=\"multinomial\",random_state=20231212))\n",
    "mlr\n",
    "# 0.5165245092"
   ]
  },
  {
   "cell_type": "markdown",
   "id": "f999bbcb",
   "metadata": {},
   "source": [
    "## baseline lgbm model"
   ]
  },
  {
   "cell_type": "code",
   "execution_count": 10,
   "id": "674cf8d3",
   "metadata": {},
   "outputs": [
    {
     "data": {
      "text/plain": [
       "(0.4690187363,\n",
       " {'boosting_type': 'gbdt',\n",
       "  'class_weight': None,\n",
       "  'colsample_bytree': 1.0,\n",
       "  'importance_type': 'split',\n",
       "  'learning_rate': 0.1,\n",
       "  'max_depth': -1,\n",
       "  'min_child_samples': 20,\n",
       "  'min_child_weight': 0.001,\n",
       "  'min_split_gain': 0.0,\n",
       "  'n_estimators': 100,\n",
       "  'n_jobs': -1,\n",
       "  'num_leaves': 31,\n",
       "  'objective': None,\n",
       "  'random_state': 20231221,\n",
       "  'reg_alpha': 0.0,\n",
       "  'reg_lambda': 0.0,\n",
       "  'silent': 'warn',\n",
       "  'subsample': 1.0,\n",
       "  'subsample_for_bin': 200000,\n",
       "  'subsample_freq': 0})"
      ]
     },
     "execution_count": 10,
     "metadata": {},
     "output_type": "execute_result"
    }
   ],
   "source": [
    "lgbm = cross_validate(LGBMClassifier(random_state=20231221))\n",
    "lgbm\n",
    "# 0.4690187363"
   ]
  },
  {
   "cell_type": "markdown",
   "id": "96b03745",
   "metadata": {},
   "source": [
    "## tune lgbm models - random search\n",
    "inspired by https://www.kaggle.com/code/willkoehrsen/intro-to-model-tuning-grid-and-random-search/notebook"
   ]
  },
  {
   "cell_type": "code",
   "execution_count": 11,
   "id": "82c4c6e3",
   "metadata": {},
   "outputs": [],
   "source": [
    "# search domain\n",
    "param_grid = {\n",
    "    'boosting_type': ['gbdt', 'goss', 'dart'],\n",
    "    'num_leaves': list(range(20, 150)),\n",
    "    'learning_rate': list(np.logspace(np.log10(0.005), np.log10(0.5), base = 10, num = 1000)),\n",
    "    'subsample_for_bin': list(range(20000, 300000, 20000)),\n",
    "    'min_child_samples': list(range(20, 500, 5)),\n",
    "    'reg_alpha': list(np.linspace(0, 1)),\n",
    "    'reg_lambda': list(np.linspace(0, 1)),\n",
    "    'colsample_bytree': list(np.linspace(0.6, 1, 10)),\n",
    "    'subsample': list(np.linspace(0.5, 1, 100)),\n",
    "    'is_unbalance': [True, False]\n",
    "}"
   ]
  },
  {
   "cell_type": "code",
   "execution_count": 12,
   "id": "325e7ead",
   "metadata": {},
   "outputs": [],
   "source": [
    "def random_search(param_grid, num_evals):\n",
    "    \"\"\"\n",
    "    random search for hyperparameter tuning\n",
    "    \"\"\"\n",
    "    # empty dataframe for results\n",
    "    results = pd.DataFrame(columns = ['cross_entropy', 'hyper_params'], index = list(range(num_evals)))\n",
    "    \n",
    "    # keep searching until reach num_evals\n",
    "    random.seed(20231231)\n",
    "    for i in range(num_evals):\n",
    "        \n",
    "        # init random hyperparameters\n",
    "        hyperparameters = {k: random.sample(v, 1)[0] for k, v in param_grid.items()}\n",
    "        hyperparameters['subsample'] = 1.0 if hyperparameters['boosting_type'] == 'goss' else hyperparameters['subsample']\n",
    "\n",
    "        # eval random hyperparameters\n",
    "        cross_entropy, hyper_params = cross_validate(LGBMClassifier(**hyperparameters,random_state=20231231))\n",
    "        results.loc[i, :] = cross_entropy, hyper_params\n",
    "    \n",
    "    # sort with lowest cross_entropy on top\n",
    "    results.sort_values('cross_entropy', ascending = True, inplace = True)\n",
    "    results.reset_index(inplace = True)\n",
    "    return results"
   ]
  },
  {
   "cell_type": "code",
   "execution_count": 13,
   "id": "e26cccc2",
   "metadata": {},
   "outputs": [
    {
     "data": {
      "text/html": [
       "<div>\n",
       "<style scoped>\n",
       "    .dataframe tbody tr th:only-of-type {\n",
       "        vertical-align: middle;\n",
       "    }\n",
       "\n",
       "    .dataframe tbody tr th {\n",
       "        vertical-align: top;\n",
       "    }\n",
       "\n",
       "    .dataframe thead th {\n",
       "        text-align: right;\n",
       "    }\n",
       "</style>\n",
       "<table border=\"1\" class=\"dataframe\">\n",
       "  <thead>\n",
       "    <tr style=\"text-align: right;\">\n",
       "      <th></th>\n",
       "      <th>index</th>\n",
       "      <th>cross_entropy</th>\n",
       "      <th>hyper_params</th>\n",
       "    </tr>\n",
       "  </thead>\n",
       "  <tbody>\n",
       "    <tr>\n",
       "      <th>0</th>\n",
       "      <td>25</td>\n",
       "      <td>0.44176</td>\n",
       "      <td>{'boosting_type': 'gbdt', 'class_weight': None...</td>\n",
       "    </tr>\n",
       "    <tr>\n",
       "      <th>1</th>\n",
       "      <td>300</td>\n",
       "      <td>0.44329</td>\n",
       "      <td>{'boosting_type': 'gbdt', 'class_weight': None...</td>\n",
       "    </tr>\n",
       "    <tr>\n",
       "      <th>2</th>\n",
       "      <td>198</td>\n",
       "      <td>0.443475</td>\n",
       "      <td>{'boosting_type': 'dart', 'class_weight': None...</td>\n",
       "    </tr>\n",
       "    <tr>\n",
       "      <th>3</th>\n",
       "      <td>392</td>\n",
       "      <td>0.443586</td>\n",
       "      <td>{'boosting_type': 'dart', 'class_weight': None...</td>\n",
       "    </tr>\n",
       "    <tr>\n",
       "      <th>4</th>\n",
       "      <td>3</td>\n",
       "      <td>0.443741</td>\n",
       "      <td>{'boosting_type': 'dart', 'class_weight': None...</td>\n",
       "    </tr>\n",
       "  </tbody>\n",
       "</table>\n",
       "</div>"
      ],
      "text/plain": [
       "   index cross_entropy                                       hyper_params\n",
       "0     25       0.44176  {'boosting_type': 'gbdt', 'class_weight': None...\n",
       "1    300       0.44329  {'boosting_type': 'gbdt', 'class_weight': None...\n",
       "2    198      0.443475  {'boosting_type': 'dart', 'class_weight': None...\n",
       "3    392      0.443586  {'boosting_type': 'dart', 'class_weight': None...\n",
       "4      3      0.443741  {'boosting_type': 'dart', 'class_weight': None..."
      ]
     },
     "execution_count": 13,
     "metadata": {},
     "output_type": "execute_result"
    }
   ],
   "source": [
    "random_results = random_search(param_grid, num_evals = 1000)\n",
    "random_results.head()"
   ]
  },
  {
   "cell_type": "code",
   "execution_count": 20,
   "id": "97e7b005",
   "metadata": {},
   "outputs": [
    {
     "data": {
      "text/plain": [
       "0      {'boosting_type': 'gbdt', 'class_weight': None...\n",
       "1      {'boosting_type': 'gbdt', 'class_weight': None...\n",
       "2      {'boosting_type': 'dart', 'class_weight': None...\n",
       "3      {'boosting_type': 'dart', 'class_weight': None...\n",
       "4      {'boosting_type': 'dart', 'class_weight': None...\n",
       "                             ...                        \n",
       "995    {'boosting_type': 'dart', 'class_weight': None...\n",
       "996    {'boosting_type': 'dart', 'class_weight': None...\n",
       "997    {'boosting_type': 'dart', 'class_weight': None...\n",
       "998    {'boosting_type': 'dart', 'class_weight': None...\n",
       "999    {'boosting_type': 'dart', 'class_weight': None...\n",
       "Name: hyper_params, Length: 1000, dtype: object"
      ]
     },
     "execution_count": 20,
     "metadata": {},
     "output_type": "execute_result"
    }
   ],
   "source": [
    "random_results[\"hyper_params\"]"
   ]
  },
  {
   "cell_type": "code",
   "execution_count": 23,
   "id": "861aabda",
   "metadata": {},
   "outputs": [
    {
     "data": {
      "text/html": [
       "<div>\n",
       "<style scoped>\n",
       "    .dataframe tbody tr th:only-of-type {\n",
       "        vertical-align: middle;\n",
       "    }\n",
       "\n",
       "    .dataframe tbody tr th {\n",
       "        vertical-align: top;\n",
       "    }\n",
       "\n",
       "    .dataframe thead th {\n",
       "        text-align: right;\n",
       "    }\n",
       "</style>\n",
       "<table border=\"1\" class=\"dataframe\">\n",
       "  <thead>\n",
       "    <tr style=\"text-align: right;\">\n",
       "      <th></th>\n",
       "      <th>boosting_type</th>\n",
       "      <th>class_weight</th>\n",
       "      <th>colsample_bytree</th>\n",
       "      <th>importance_type</th>\n",
       "      <th>learning_rate</th>\n",
       "      <th>max_depth</th>\n",
       "      <th>min_child_samples</th>\n",
       "      <th>min_child_weight</th>\n",
       "      <th>min_split_gain</th>\n",
       "      <th>n_estimators</th>\n",
       "      <th>...</th>\n",
       "      <th>num_leaves</th>\n",
       "      <th>objective</th>\n",
       "      <th>random_state</th>\n",
       "      <th>reg_alpha</th>\n",
       "      <th>reg_lambda</th>\n",
       "      <th>silent</th>\n",
       "      <th>subsample</th>\n",
       "      <th>subsample_for_bin</th>\n",
       "      <th>subsample_freq</th>\n",
       "      <th>is_unbalance</th>\n",
       "    </tr>\n",
       "  </thead>\n",
       "  <tbody>\n",
       "    <tr>\n",
       "      <th>0</th>\n",
       "      <td>gbdt</td>\n",
       "      <td>None</td>\n",
       "      <td>0.600000</td>\n",
       "      <td>split</td>\n",
       "      <td>0.059162</td>\n",
       "      <td>-1</td>\n",
       "      <td>60</td>\n",
       "      <td>0.001</td>\n",
       "      <td>0.0</td>\n",
       "      <td>100</td>\n",
       "      <td>...</td>\n",
       "      <td>93</td>\n",
       "      <td>None</td>\n",
       "      <td>20231231</td>\n",
       "      <td>0.734694</td>\n",
       "      <td>0.489796</td>\n",
       "      <td>warn</td>\n",
       "      <td>0.686869</td>\n",
       "      <td>200000</td>\n",
       "      <td>0</td>\n",
       "      <td>False</td>\n",
       "    </tr>\n",
       "    <tr>\n",
       "      <th>1</th>\n",
       "      <td>gbdt</td>\n",
       "      <td>None</td>\n",
       "      <td>0.600000</td>\n",
       "      <td>split</td>\n",
       "      <td>0.086339</td>\n",
       "      <td>-1</td>\n",
       "      <td>225</td>\n",
       "      <td>0.001</td>\n",
       "      <td>0.0</td>\n",
       "      <td>100</td>\n",
       "      <td>...</td>\n",
       "      <td>66</td>\n",
       "      <td>None</td>\n",
       "      <td>20231231</td>\n",
       "      <td>0.061224</td>\n",
       "      <td>0.081633</td>\n",
       "      <td>warn</td>\n",
       "      <td>0.585859</td>\n",
       "      <td>240000</td>\n",
       "      <td>0</td>\n",
       "      <td>True</td>\n",
       "    </tr>\n",
       "    <tr>\n",
       "      <th>2</th>\n",
       "      <td>dart</td>\n",
       "      <td>None</td>\n",
       "      <td>0.600000</td>\n",
       "      <td>split</td>\n",
       "      <td>0.211152</td>\n",
       "      <td>-1</td>\n",
       "      <td>160</td>\n",
       "      <td>0.001</td>\n",
       "      <td>0.0</td>\n",
       "      <td>100</td>\n",
       "      <td>...</td>\n",
       "      <td>45</td>\n",
       "      <td>None</td>\n",
       "      <td>20231231</td>\n",
       "      <td>0.367347</td>\n",
       "      <td>0.020408</td>\n",
       "      <td>warn</td>\n",
       "      <td>0.712121</td>\n",
       "      <td>40000</td>\n",
       "      <td>0</td>\n",
       "      <td>False</td>\n",
       "    </tr>\n",
       "    <tr>\n",
       "      <th>3</th>\n",
       "      <td>dart</td>\n",
       "      <td>None</td>\n",
       "      <td>0.733333</td>\n",
       "      <td>split</td>\n",
       "      <td>0.189037</td>\n",
       "      <td>-1</td>\n",
       "      <td>120</td>\n",
       "      <td>0.001</td>\n",
       "      <td>0.0</td>\n",
       "      <td>100</td>\n",
       "      <td>...</td>\n",
       "      <td>144</td>\n",
       "      <td>None</td>\n",
       "      <td>20231231</td>\n",
       "      <td>0.183673</td>\n",
       "      <td>0.632653</td>\n",
       "      <td>warn</td>\n",
       "      <td>0.580808</td>\n",
       "      <td>260000</td>\n",
       "      <td>0</td>\n",
       "      <td>True</td>\n",
       "    </tr>\n",
       "    <tr>\n",
       "      <th>4</th>\n",
       "      <td>dart</td>\n",
       "      <td>None</td>\n",
       "      <td>0.644444</td>\n",
       "      <td>split</td>\n",
       "      <td>0.148061</td>\n",
       "      <td>-1</td>\n",
       "      <td>90</td>\n",
       "      <td>0.001</td>\n",
       "      <td>0.0</td>\n",
       "      <td>100</td>\n",
       "      <td>...</td>\n",
       "      <td>100</td>\n",
       "      <td>None</td>\n",
       "      <td>20231231</td>\n",
       "      <td>0.816327</td>\n",
       "      <td>1.000000</td>\n",
       "      <td>warn</td>\n",
       "      <td>0.969697</td>\n",
       "      <td>100000</td>\n",
       "      <td>0</td>\n",
       "      <td>True</td>\n",
       "    </tr>\n",
       "    <tr>\n",
       "      <th>5</th>\n",
       "      <td>gbdt</td>\n",
       "      <td>None</td>\n",
       "      <td>0.600000</td>\n",
       "      <td>split</td>\n",
       "      <td>0.036461</td>\n",
       "      <td>-1</td>\n",
       "      <td>40</td>\n",
       "      <td>0.001</td>\n",
       "      <td>0.0</td>\n",
       "      <td>100</td>\n",
       "      <td>...</td>\n",
       "      <td>44</td>\n",
       "      <td>None</td>\n",
       "      <td>20231231</td>\n",
       "      <td>0.857143</td>\n",
       "      <td>0.897959</td>\n",
       "      <td>warn</td>\n",
       "      <td>0.914141</td>\n",
       "      <td>20000</td>\n",
       "      <td>0</td>\n",
       "      <td>True</td>\n",
       "    </tr>\n",
       "    <tr>\n",
       "      <th>6</th>\n",
       "      <td>dart</td>\n",
       "      <td>None</td>\n",
       "      <td>0.688889</td>\n",
       "      <td>split</td>\n",
       "      <td>0.207294</td>\n",
       "      <td>-1</td>\n",
       "      <td>135</td>\n",
       "      <td>0.001</td>\n",
       "      <td>0.0</td>\n",
       "      <td>100</td>\n",
       "      <td>...</td>\n",
       "      <td>126</td>\n",
       "      <td>None</td>\n",
       "      <td>20231231</td>\n",
       "      <td>1.000000</td>\n",
       "      <td>0.510204</td>\n",
       "      <td>warn</td>\n",
       "      <td>0.989899</td>\n",
       "      <td>140000</td>\n",
       "      <td>0</td>\n",
       "      <td>True</td>\n",
       "    </tr>\n",
       "    <tr>\n",
       "      <th>7</th>\n",
       "      <td>gbdt</td>\n",
       "      <td>None</td>\n",
       "      <td>0.733333</td>\n",
       "      <td>split</td>\n",
       "      <td>0.063985</td>\n",
       "      <td>-1</td>\n",
       "      <td>40</td>\n",
       "      <td>0.001</td>\n",
       "      <td>0.0</td>\n",
       "      <td>100</td>\n",
       "      <td>...</td>\n",
       "      <td>27</td>\n",
       "      <td>None</td>\n",
       "      <td>20231231</td>\n",
       "      <td>0.081633</td>\n",
       "      <td>0.653061</td>\n",
       "      <td>warn</td>\n",
       "      <td>0.555556</td>\n",
       "      <td>200000</td>\n",
       "      <td>0</td>\n",
       "      <td>False</td>\n",
       "    </tr>\n",
       "    <tr>\n",
       "      <th>8</th>\n",
       "      <td>dart</td>\n",
       "      <td>None</td>\n",
       "      <td>0.777778</td>\n",
       "      <td>split</td>\n",
       "      <td>0.137534</td>\n",
       "      <td>-1</td>\n",
       "      <td>60</td>\n",
       "      <td>0.001</td>\n",
       "      <td>0.0</td>\n",
       "      <td>100</td>\n",
       "      <td>...</td>\n",
       "      <td>69</td>\n",
       "      <td>None</td>\n",
       "      <td>20231231</td>\n",
       "      <td>0.469388</td>\n",
       "      <td>0.612245</td>\n",
       "      <td>warn</td>\n",
       "      <td>0.762626</td>\n",
       "      <td>100000</td>\n",
       "      <td>0</td>\n",
       "      <td>False</td>\n",
       "    </tr>\n",
       "    <tr>\n",
       "      <th>9</th>\n",
       "      <td>dart</td>\n",
       "      <td>None</td>\n",
       "      <td>0.688889</td>\n",
       "      <td>split</td>\n",
       "      <td>0.225229</td>\n",
       "      <td>-1</td>\n",
       "      <td>190</td>\n",
       "      <td>0.001</td>\n",
       "      <td>0.0</td>\n",
       "      <td>100</td>\n",
       "      <td>...</td>\n",
       "      <td>43</td>\n",
       "      <td>None</td>\n",
       "      <td>20231231</td>\n",
       "      <td>0.387755</td>\n",
       "      <td>0.326531</td>\n",
       "      <td>warn</td>\n",
       "      <td>0.550505</td>\n",
       "      <td>160000</td>\n",
       "      <td>0</td>\n",
       "      <td>True</td>\n",
       "    </tr>\n",
       "  </tbody>\n",
       "</table>\n",
       "<p>10 rows × 21 columns</p>\n",
       "</div>"
      ],
      "text/plain": [
       "  boosting_type class_weight  colsample_bytree importance_type  learning_rate  \\\n",
       "0          gbdt         None          0.600000           split       0.059162   \n",
       "1          gbdt         None          0.600000           split       0.086339   \n",
       "2          dart         None          0.600000           split       0.211152   \n",
       "3          dart         None          0.733333           split       0.189037   \n",
       "4          dart         None          0.644444           split       0.148061   \n",
       "5          gbdt         None          0.600000           split       0.036461   \n",
       "6          dart         None          0.688889           split       0.207294   \n",
       "7          gbdt         None          0.733333           split       0.063985   \n",
       "8          dart         None          0.777778           split       0.137534   \n",
       "9          dart         None          0.688889           split       0.225229   \n",
       "\n",
       "   max_depth  min_child_samples  min_child_weight  min_split_gain  \\\n",
       "0         -1                 60             0.001             0.0   \n",
       "1         -1                225             0.001             0.0   \n",
       "2         -1                160             0.001             0.0   \n",
       "3         -1                120             0.001             0.0   \n",
       "4         -1                 90             0.001             0.0   \n",
       "5         -1                 40             0.001             0.0   \n",
       "6         -1                135             0.001             0.0   \n",
       "7         -1                 40             0.001             0.0   \n",
       "8         -1                 60             0.001             0.0   \n",
       "9         -1                190             0.001             0.0   \n",
       "\n",
       "   n_estimators  ...  num_leaves  objective random_state  reg_alpha  \\\n",
       "0           100  ...          93       None     20231231   0.734694   \n",
       "1           100  ...          66       None     20231231   0.061224   \n",
       "2           100  ...          45       None     20231231   0.367347   \n",
       "3           100  ...         144       None     20231231   0.183673   \n",
       "4           100  ...         100       None     20231231   0.816327   \n",
       "5           100  ...          44       None     20231231   0.857143   \n",
       "6           100  ...         126       None     20231231   1.000000   \n",
       "7           100  ...          27       None     20231231   0.081633   \n",
       "8           100  ...          69       None     20231231   0.469388   \n",
       "9           100  ...          43       None     20231231   0.387755   \n",
       "\n",
       "   reg_lambda  silent subsample  subsample_for_bin  subsample_freq  \\\n",
       "0    0.489796    warn  0.686869             200000               0   \n",
       "1    0.081633    warn  0.585859             240000               0   \n",
       "2    0.020408    warn  0.712121              40000               0   \n",
       "3    0.632653    warn  0.580808             260000               0   \n",
       "4    1.000000    warn  0.969697             100000               0   \n",
       "5    0.897959    warn  0.914141              20000               0   \n",
       "6    0.510204    warn  0.989899             140000               0   \n",
       "7    0.653061    warn  0.555556             200000               0   \n",
       "8    0.612245    warn  0.762626             100000               0   \n",
       "9    0.326531    warn  0.550505             160000               0   \n",
       "\n",
       "   is_unbalance  \n",
       "0         False  \n",
       "1          True  \n",
       "2         False  \n",
       "3          True  \n",
       "4          True  \n",
       "5          True  \n",
       "6          True  \n",
       "7         False  \n",
       "8         False  \n",
       "9          True  \n",
       "\n",
       "[10 rows x 21 columns]"
      ]
     },
     "execution_count": 23,
     "metadata": {},
     "output_type": "execute_result"
    }
   ],
   "source": [
    "param_df = pd.DataFrame(random_results[\"hyper_params\"].tolist())\n",
    "param_df.head(10)"
   ]
  },
  {
   "cell_type": "code",
   "execution_count": 41,
   "id": "ff189567",
   "metadata": {},
   "outputs": [
    {
     "data": {
      "text/plain": [
       "-0.6473763420103276"
      ]
     },
     "execution_count": 41,
     "metadata": {},
     "output_type": "execute_result"
    }
   ],
   "source": [
    "max(np.log10(param_df.head(10)[\"learning_rate\"]))"
   ]
  },
  {
   "cell_type": "code",
   "execution_count": 40,
   "id": "a8cb6ad3",
   "metadata": {},
   "outputs": [
    {
     "data": {
      "text/plain": [
       "-1.6989700043360187"
      ]
     },
     "execution_count": 40,
     "metadata": {},
     "output_type": "execute_result"
    }
   ],
   "source": [
    "np.log10(0.02)"
   ]
  },
  {
   "cell_type": "code",
   "execution_count": 48,
   "id": "51c48b8b",
   "metadata": {},
   "outputs": [
    {
     "data": {
      "text/plain": [
       "-0.619788758288394"
      ]
     },
     "execution_count": 48,
     "metadata": {},
     "output_type": "execute_result"
    }
   ],
   "source": [
    "np.log10(0.24)"
   ]
  },
  {
   "cell_type": "code",
   "execution_count": 49,
   "id": "8748378d",
   "metadata": {},
   "outputs": [],
   "source": [
    "# search domain (updated after one round of random_search)\n",
    "param_grid_1 = {\n",
    "    'boosting_type': ['gbdt', 'dart'],\n",
    "    'num_leaves': list(range(27, 145)),\n",
    "    'learning_rate': list(np.logspace(np.log10(0.02), np.log10(0.24), base = 10, num = 1000)),\n",
    "    'subsample_for_bin': list(range(20000, 280000, 20000)),\n",
    "    'min_child_samples': list(range(40, 230, 5)),\n",
    "    'reg_alpha': list(np.linspace(0.06, 1)),\n",
    "    'reg_lambda': list(np.linspace(0.02, 1)),\n",
    "    'colsample_bytree': list(np.linspace(0.6, 0.8, 10)),\n",
    "    'subsample': list(np.linspace(0.55, 1, 100)),\n",
    "    'is_unbalance': [True, False]\n",
    "}"
   ]
  },
  {
   "cell_type": "code",
   "execution_count": null,
   "id": "19779306",
   "metadata": {},
   "outputs": [],
   "source": [
    "random_results_1 = random_search(param_grid_1, num_evals = 1000)\n",
    "random_results_1.head()"
   ]
  },
  {
   "cell_type": "code",
   "execution_count": null,
   "id": "1b89acd7",
   "metadata": {},
   "outputs": [],
   "source": [
    "#random_results.loc[882, \"cross_entropy\"]"
   ]
  },
  {
   "cell_type": "markdown",
   "id": "fcb3ee92",
   "metadata": {},
   "source": [
    "0.4421671665\n",
    "{'boosting_type': 'gbdt',\n",
    " 'class_weight': None,\n",
    " 'colsample_bytree': 0.6,\n",
    " 'importance_type': 'split',\n",
    " 'learning_rate': 0.04830087399761322,\n",
    " 'max_depth': -1,\n",
    " 'min_child_samples': 110,\n",
    " 'min_child_weight': 0.001,\n",
    " 'min_split_gain': 0.0,\n",
    " 'n_estimators': 100,\n",
    " 'n_jobs': -1,\n",
    " 'num_leaves': 141,\n",
    " 'objective': None,\n",
    " 'random_state': 20231231,\n",
    " 'reg_alpha': 0.8775510204081632,\n",
    " 'reg_lambda': 0.42857142857142855,\n",
    " 'silent': 'warn',\n",
    " 'subsample': 0.5555555555555556,\n",
    " 'subsample_for_bin': 120000,\n",
    " 'subsample_freq': 0,\n",
    " 'is_unbalance': True}"
   ]
  },
  {
   "cell_type": "code",
   "execution_count": null,
   "id": "4da24692",
   "metadata": {},
   "outputs": [],
   "source": [
    "#def grid_search(param_grid, num_evals):\n",
    "    #\"\"\"grid search for hyperparameter tuning\"\"\"\n",
    "    # empty dataframe for results\n",
    "    #results = pd.DataFrame(columns = ['cross_entropy', 'hyper_params'], index = list(range(num_evals)))\n",
    "    \n",
    "    # https://codereview.stackexchange.com/questions/171173/list-all-possible-permutations-from-a-python-dictionary-of-lists\n",
    "    #keys, values = zip(*param_grid.items()) \n",
    "    #i = 0\n",
    "    \n",
    "    # iterate through every possible combination of hyperparameters\n",
    "    #for v in itertools.product(*values):\n",
    "        \n",
    "        # create a hyperparameter dictionary\n",
    "        #hyperparameters = dict(zip(keys, v))\n",
    "        \n",
    "        # set the subsample ratio accounting for boosting type\n",
    "        #hyperparameters['subsample'] = 1.0 if hyperparameters['boosting_type'] == 'goss' else hyperparameters['subsample']\n",
    "        \n",
    "        # eval the hyperparameters\n",
    "        #cross_entropy, hyper_params = cross_validate(LGBMClassifier(**hyperparameters,random_state=20231231))\n",
    "        #results.loc[i, :] = cross_entropy, hyper_params\n",
    "        #i += 1\n",
    "        \n",
    "        # normally would not limit iterations\n",
    "        #if i > num_evals:\n",
    "            #break\n",
    "       \n",
    "    # sort with lowest cross_entropy on top\n",
    "    #results.sort_values('cross_entropy', ascending = True, inplace = True)\n",
    "    #results.reset_index(inplace = True)\n",
    "    #return results"
   ]
  },
  {
   "cell_type": "code",
   "execution_count": null,
   "id": "d0d2d8e7",
   "metadata": {},
   "outputs": [],
   "source": [
    "#random_hyper_params = random_results.loc[882, 'hyper_params']\n",
    "#random_hyper_params"
   ]
  },
  {
   "cell_type": "code",
   "execution_count": null,
   "id": "9beac818",
   "metadata": {},
   "outputs": [],
   "source": [
    "# fit, train, test model\n",
    "#model = LGBMClassifier(**random_hyper_params)\n",
    "#model.fit(X_train, y_train_le)\n",
    "#y_test_pred = model.predict_proba(X_test)"
   ]
  },
  {
   "cell_type": "code",
   "execution_count": null,
   "id": "19196f35",
   "metadata": {},
   "outputs": [],
   "source": [
    "#y_test_pred"
   ]
  },
  {
   "cell_type": "code",
   "execution_count": null,
   "id": "9ca05f4e",
   "metadata": {},
   "outputs": [],
   "source": [
    "#sample_submission = pd.read_csv(\"sample_submission.csv\")\n",
    "#sample_submission.head()"
   ]
  },
  {
   "cell_type": "code",
   "execution_count": null,
   "id": "32dd9658",
   "metadata": {},
   "outputs": [],
   "source": [
    "#y_test_pred_df = pd.DataFrame(y_test_pred, columns =['Status_C', 'Status_CL', 'Status_D'])\n",
    "#y_test_pred_df.head()"
   ]
  },
  {
   "cell_type": "code",
   "execution_count": null,
   "id": "2ce5de0b",
   "metadata": {},
   "outputs": [],
   "source": [
    "#y_test_pred_df = pd.concat([sample_submission[\"id\"],y_test_pred_df],axis=1)\n",
    "#y_test_pred_df.head()"
   ]
  },
  {
   "cell_type": "code",
   "execution_count": null,
   "id": "07584579",
   "metadata": {},
   "outputs": [],
   "source": [
    "#y_test_pred_df.to_csv(\"y_test_pred_df_20231231.csv\",index=False)"
   ]
  },
  {
   "cell_type": "code",
   "execution_count": null,
   "id": "0a08cf3c",
   "metadata": {},
   "outputs": [],
   "source": []
  }
 ],
 "metadata": {
  "kernelspec": {
   "display_name": "Python 3 (ipykernel)",
   "language": "python",
   "name": "python3"
  },
  "language_info": {
   "codemirror_mode": {
    "name": "ipython",
    "version": 3
   },
   "file_extension": ".py",
   "mimetype": "text/x-python",
   "name": "python",
   "nbconvert_exporter": "python",
   "pygments_lexer": "ipython3",
   "version": "3.11.3"
  }
 },
 "nbformat": 4,
 "nbformat_minor": 5
}
